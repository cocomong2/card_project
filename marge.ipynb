{
 "cells": [
  {
   "cell_type": "code",
   "execution_count": 42,
   "id": "450fb567",
   "metadata": {},
   "outputs": [],
   "source": [
    "import pandas as pd\n",
    "import numpy as np"
   ]
  },
  {
   "cell_type": "code",
   "execution_count": 43,
   "id": "e91b1df1",
   "metadata": {},
   "outputs": [],
   "source": [
    "data = pd.read_csv('final_merged_df.csv')\n",
    "card_df = pd.read_csv('../vip_card_data_merged.csv')\n",
    "card2_df = pd.read_csv('../vipcard3.csv')\n",
    "card3_df = pd.read_csv('../price.csv')"
   ]
  },
  {
   "cell_type": "code",
   "execution_count": 44,
   "id": "66ccfb7f",
   "metadata": {},
   "outputs": [],
   "source": [
    "card_merge = pd.merge(card_df, card2_df, on='발급회원번호', how='inner')\n",
    "card_merge = pd.merge(card_merge, card3_df, on='발급회원번호', how='inner')"
   ]
  },
  {
   "cell_type": "code",
   "execution_count": 45,
   "id": "82b70b20",
   "metadata": {},
   "outputs": [
    {
     "data": {
      "text/plain": [
       "((3000000, 62), (3000000, 58))"
      ]
     },
     "execution_count": 45,
     "metadata": {},
     "output_type": "execute_result"
    }
   ],
   "source": [
    "card_merge.shape , data.shape"
   ]
  },
  {
   "cell_type": "code",
   "execution_count": 46,
   "id": "6fd74630",
   "metadata": {},
   "outputs": [
    {
     "data": {
      "text/plain": [
       "{'VIP등급코드',\n",
       " '남녀구분코드',\n",
       " '마케팅동의여부',\n",
       " '발급회원번호',\n",
       " '연령',\n",
       " '유효카드수_신용',\n",
       " '유효카드수_신용체크',\n",
       " '유효카드수_체크',\n",
       " '이용개월수_일시불_R12M',\n",
       " '이용개월수_일시불_R3M',\n",
       " '이용개월수_일시불_R6M',\n",
       " '이용개월수_체크_R12M',\n",
       " '이용개월수_체크_R3M',\n",
       " '이용개월수_체크_R6M',\n",
       " '이용개월수_할부_R12M',\n",
       " '이용개월수_할부_R3M',\n",
       " '이용개월수_할부_R6M',\n",
       " '이용건수_일시불_B0M',\n",
       " '이용건수_일시불_R12M',\n",
       " '이용건수_일시불_R3M',\n",
       " '이용건수_일시불_R6M',\n",
       " '이용건수_체크_B0M',\n",
       " '이용건수_체크_R12M',\n",
       " '이용건수_체크_R3M',\n",
       " '이용건수_체크_R6M',\n",
       " '이용건수_할부_B0M',\n",
       " '이용건수_할부_R12M',\n",
       " '이용건수_할부_R3M',\n",
       " '이용건수_할부_R6M',\n",
       " '이용금액_일시불_B0M',\n",
       " '이용금액_일시불_R12M',\n",
       " '이용금액_일시불_R3M',\n",
       " '이용금액_일시불_R6M',\n",
       " '이용금액_체크_B0M',\n",
       " '이용금액_체크_R12M',\n",
       " '이용금액_체크_R3M',\n",
       " '이용금액_체크_R6M',\n",
       " '이용금액_할부_B0M',\n",
       " '이용금액_할부_R12M',\n",
       " '이용금액_할부_R3M',\n",
       " '이용금액_할부_R6M',\n",
       " '이용금액대',\n",
       " '이용후경과월_일시불',\n",
       " '이용후경과월_체크',\n",
       " '이용후경과월_할부',\n",
       " '최대이용금액_일시불_R12M',\n",
       " '최대이용금액_체크_R12M',\n",
       " '최대이용금액_할부_R12M',\n",
       " '최종이용일자_일시불',\n",
       " '최종이용일자_체크',\n",
       " '최종이용일자_할부',\n",
       " '최종탈회후경과월',\n",
       " '탈회횟수_누적',\n",
       " '탈회횟수_발급1년이내',\n",
       " '탈회횟수_발급6개월이내',\n",
       " '회원여부_이용가능',\n",
       " '회원여부_이용가능_CA',\n",
       " '회원여부_이용가능_카드론'}"
      ]
     },
     "execution_count": 46,
     "metadata": {},
     "output_type": "execute_result"
    }
   ],
   "source": [
    "common_cols = set(data.columns) & set(card_merge.columns)\n",
    "common_cols"
   ]
  },
  {
   "cell_type": "code",
   "execution_count": 47,
   "id": "59d2800f",
   "metadata": {},
   "outputs": [
    {
     "data": {
      "text/plain": [
       "{'이용금액_R3M_신용', '이용금액_R3M_신용체크', '이용금액_업종기준', '입회경과개월수_신용'}"
      ]
     },
     "execution_count": 47,
     "metadata": {},
     "output_type": "execute_result"
    }
   ],
   "source": [
    "df1_only = set(card_merge.columns) - set(data.columns)\n",
    "df1_only"
   ]
  },
  {
   "cell_type": "code",
   "execution_count": 51,
   "id": "4a40de57",
   "metadata": {},
   "outputs": [
    {
     "name": "stdout",
     "output_type": "stream",
     "text": [
      "존재하는 컬럼만: ['이용금액_R3M_신용', '이용금액_R3M_신용체크', '이용금액_업종기준', '입회경과개월수_신용']\n"
     ]
    }
   ],
   "source": [
    "cols_to_drop = ['이용금액_R3M_신용', '이용금액_R3M_신용체크', '이용금액_업종기준', '입회경과개월수_신용']\n",
    "print(\"존재하는 컬럼만:\", [col for col in cols_to_drop if col in card_merge.columns])\n",
    "\n",
    "existing_cols = [col for col in cols_to_drop if col in card_merge.columns]\n",
    "card_merge.drop(existing_cols, axis=1, inplace=True)\n"
   ]
  },
  {
   "cell_type": "code",
   "execution_count": 53,
   "id": "4ac738b2",
   "metadata": {},
   "outputs": [
    {
     "data": {
      "text/plain": [
       "((3000000, 58), (3000000, 58))"
      ]
     },
     "execution_count": 53,
     "metadata": {},
     "output_type": "execute_result"
    }
   ],
   "source": [
    "card_merge.shape , data.shape"
   ]
  },
  {
   "cell_type": "code",
   "execution_count": 54,
   "id": "2dfc7504",
   "metadata": {},
   "outputs": [
    {
     "data": {
      "text/plain": [
       "{'VIP등급코드',\n",
       " '남녀구분코드',\n",
       " '마케팅동의여부',\n",
       " '발급회원번호',\n",
       " '연령',\n",
       " '유효카드수_신용',\n",
       " '유효카드수_신용체크',\n",
       " '유효카드수_체크',\n",
       " '이용개월수_일시불_R12M',\n",
       " '이용개월수_일시불_R3M',\n",
       " '이용개월수_일시불_R6M',\n",
       " '이용개월수_체크_R12M',\n",
       " '이용개월수_체크_R3M',\n",
       " '이용개월수_체크_R6M',\n",
       " '이용개월수_할부_R12M',\n",
       " '이용개월수_할부_R3M',\n",
       " '이용개월수_할부_R6M',\n",
       " '이용건수_일시불_B0M',\n",
       " '이용건수_일시불_R12M',\n",
       " '이용건수_일시불_R3M',\n",
       " '이용건수_일시불_R6M',\n",
       " '이용건수_체크_B0M',\n",
       " '이용건수_체크_R12M',\n",
       " '이용건수_체크_R3M',\n",
       " '이용건수_체크_R6M',\n",
       " '이용건수_할부_B0M',\n",
       " '이용건수_할부_R12M',\n",
       " '이용건수_할부_R3M',\n",
       " '이용건수_할부_R6M',\n",
       " '이용금액_일시불_B0M',\n",
       " '이용금액_일시불_R12M',\n",
       " '이용금액_일시불_R3M',\n",
       " '이용금액_일시불_R6M',\n",
       " '이용금액_체크_B0M',\n",
       " '이용금액_체크_R12M',\n",
       " '이용금액_체크_R3M',\n",
       " '이용금액_체크_R6M',\n",
       " '이용금액_할부_B0M',\n",
       " '이용금액_할부_R12M',\n",
       " '이용금액_할부_R3M',\n",
       " '이용금액_할부_R6M',\n",
       " '이용금액대',\n",
       " '이용후경과월_일시불',\n",
       " '이용후경과월_체크',\n",
       " '이용후경과월_할부',\n",
       " '최대이용금액_일시불_R12M',\n",
       " '최대이용금액_체크_R12M',\n",
       " '최대이용금액_할부_R12M',\n",
       " '최종이용일자_일시불',\n",
       " '최종이용일자_체크',\n",
       " '최종이용일자_할부',\n",
       " '최종탈회후경과월',\n",
       " '탈회횟수_누적',\n",
       " '탈회횟수_발급1년이내',\n",
       " '탈회횟수_발급6개월이내',\n",
       " '회원여부_이용가능',\n",
       " '회원여부_이용가능_CA',\n",
       " '회원여부_이용가능_카드론'}"
      ]
     },
     "execution_count": 54,
     "metadata": {},
     "output_type": "execute_result"
    }
   ],
   "source": [
    "common_cols = set(data.columns) & set(card_merge.columns)\n",
    "common_cols"
   ]
  },
  {
   "cell_type": "code",
   "execution_count": 55,
   "id": "a3a7e5e2",
   "metadata": {},
   "outputs": [],
   "source": [
    "card_merge_aligned = card_merge.loc[:, data.columns]\n",
    "data_aligned = data.loc[:,data.columns]"
   ]
  },
  {
   "cell_type": "code",
   "execution_count": 57,
   "id": "c8b23ee4",
   "metadata": {},
   "outputs": [
    {
     "data": {
      "text/plain": [
       "True"
      ]
     },
     "execution_count": 57,
     "metadata": {},
     "output_type": "execute_result"
    }
   ],
   "source": [
    "list(data_aligned.columns) == list(card_merge_aligned.columns)"
   ]
  },
  {
   "cell_type": "code",
   "execution_count": 61,
   "id": "a3f2b39b",
   "metadata": {},
   "outputs": [],
   "source": [
    "data_aligned.to_csv('data_aligned.csv', index=False)\n",
    "card_merge_aligned.to_csv('card_merge_aligned.csv', index=False)"
   ]
  }
 ],
 "metadata": {
  "kernelspec": {
   "display_name": "project",
   "language": "python",
   "name": "python3"
  },
  "language_info": {
   "codemirror_mode": {
    "name": "ipython",
    "version": 3
   },
   "file_extension": ".py",
   "mimetype": "text/x-python",
   "name": "python",
   "nbconvert_exporter": "python",
   "pygments_lexer": "ipython3",
   "version": "3.11.9"
  }
 },
 "nbformat": 4,
 "nbformat_minor": 5
}
