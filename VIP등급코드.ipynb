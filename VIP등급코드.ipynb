{
 "cells": [
  {
   "cell_type": "code",
   "execution_count": 2,
   "id": "bb692c42",
   "metadata": {},
   "outputs": [],
   "source": [
    "import pandas as pd"
   ]
  },
  {
   "cell_type": "code",
   "execution_count": 3,
   "id": "3f4bf2f9",
   "metadata": {},
   "outputs": [],
   "source": [
    "data = pd.read_csv(\"../컬럼확인용.csv\")"
   ]
  },
  {
   "cell_type": "code",
   "execution_count": 4,
   "id": "708e1688",
   "metadata": {},
   "outputs": [
    {
     "data": {
      "text/plain": [
       "array(['_', '07', '06', '04', '05'], dtype=object)"
      ]
     },
     "execution_count": 4,
     "metadata": {},
     "output_type": "execute_result"
    }
   ],
   "source": [
    "data['VIP등급코드'].unique()"
   ]
  },
  {
   "cell_type": "code",
   "execution_count": 13,
   "id": "5c3f0f1c",
   "metadata": {},
   "outputs": [],
   "source": [
    "data['VIP등급코드'] = data['VIP등급코드'].str.replace('_','0')"
   ]
  },
  {
   "cell_type": "code",
   "execution_count": 14,
   "id": "d20ef87c",
   "metadata": {},
   "outputs": [
    {
     "data": {
      "text/plain": [
       "0          0\n",
       "1          0\n",
       "2          0\n",
       "3          0\n",
       "4          0\n",
       "          ..\n",
       "2999995    6\n",
       "2999996    0\n",
       "2999997    0\n",
       "2999998    7\n",
       "2999999    0\n",
       "Name: VIP등급코드, Length: 3000000, dtype: int64"
      ]
     },
     "execution_count": 14,
     "metadata": {},
     "output_type": "execute_result"
    }
   ],
   "source": [
    "data['VIP등급코드'].astype(int)"
   ]
  },
  {
   "cell_type": "code",
   "execution_count": 18,
   "id": "ea35eade",
   "metadata": {},
   "outputs": [
    {
     "data": {
      "text/plain": [
       "VIP등급코드\n",
       "0     2401832\n",
       "07     436786\n",
       "06     159860\n",
       "04       1329\n",
       "05        193\n",
       "Name: count, dtype: int64"
      ]
     },
     "execution_count": 18,
     "metadata": {},
     "output_type": "execute_result"
    }
   ],
   "source": [
    "data['VIP등급코드'].value_counts()"
   ]
  },
  {
   "cell_type": "code",
   "execution_count": 27,
   "id": "e5f7b2f0",
   "metadata": {},
   "outputs": [],
   "source": [
    "# 0 07 06 04 05  04,05는 데이터셋 적은 이슈로  \n",
    "data['VIP등급코드'] = data['VIP등급코드'].astype(str).replace(['0','07','06','05','04'], [0,1,2,3,4]).astype(int)\n",
    "data['VIP등급코드'] = data['VIP등급코드'].replace([4, 5], 3)"
   ]
  },
  {
   "cell_type": "code",
   "execution_count": 32,
   "id": "0ecb7b2b",
   "metadata": {},
   "outputs": [
    {
     "data": {
      "text/plain": [
       "VIP등급코드\n",
       "1    2401832\n",
       "2     436786\n",
       "3     161382\n",
       "Name: count, dtype: int64"
      ]
     },
     "execution_count": 32,
     "metadata": {},
     "output_type": "execute_result"
    }
   ],
   "source": [
    "data['VIP등급코드'].value_counts()"
   ]
  },
  {
   "cell_type": "code",
   "execution_count": 33,
   "id": "7eaaf40c",
   "metadata": {},
   "outputs": [],
   "source": [
    "data.to_csv('VIP등급코드.csv',index=False)"
   ]
  }
 ],
 "metadata": {
  "kernelspec": {
   "display_name": "project",
   "language": "python",
   "name": "python3"
  },
  "language_info": {
   "codemirror_mode": {
    "name": "ipython",
    "version": 3
   },
   "file_extension": ".py",
   "mimetype": "text/x-python",
   "name": "python",
   "nbconvert_exporter": "python",
   "pygments_lexer": "ipython3",
   "version": "3.11.9"
  }
 },
 "nbformat": 4,
 "nbformat_minor": 5
}
