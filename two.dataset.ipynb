{
 "cells": [
  {
   "cell_type": "markdown",
   "id": "f62a696c",
   "metadata": {},
   "source": [
    "# vipcard 데이터셋 merge\n"
   ]
  },
  {
   "cell_type": "code",
   "execution_count": null,
   "id": "129e009a",
   "metadata": {},
   "outputs": [],
   "source": [
    "import pandas as pd"
   ]
  },
  {
   "cell_type": "code",
   "execution_count": 6,
   "id": "57cd8597",
   "metadata": {},
   "outputs": [],
   "source": [
    "card1 = pd.read_csv(\"../vipcard.csv\") \n",
    "card2 = pd.read_csv(\"../vipcard2.csv\") "
   ]
  },
  {
   "cell_type": "code",
   "execution_count": 7,
   "id": "d49390d6",
   "metadata": {},
   "outputs": [
    {
     "name": "stdout",
     "output_type": "stream",
     "text": [
      "(216695, 87)\n"
     ]
    }
   ],
   "source": [
    "card = pd.merge(card1, card2, on='발급회원번호', how='inner')\n",
    "print(card.shape)"
   ]
  },
  {
   "cell_type": "code",
   "execution_count": 8,
   "id": "d4d3f21f",
   "metadata": {},
   "outputs": [],
   "source": [
    "card.to_csv(\"vip_card_data_merged.csv\", index=False)"
   ]
  }
 ],
 "metadata": {
  "kernelspec": {
   "display_name": "Python 3",
   "language": "python",
   "name": "python3"
  },
  "language_info": {
   "codemirror_mode": {
    "name": "ipython",
    "version": 3
   },
   "file_extension": ".py",
   "mimetype": "text/x-python",
   "name": "python",
   "nbconvert_exporter": "python",
   "pygments_lexer": "ipython3",
   "version": "3.11.9"
  }
 },
 "nbformat": 4,
 "nbformat_minor": 5
}
